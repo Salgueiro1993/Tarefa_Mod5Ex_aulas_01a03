{
 "cells": [
  {
   "cell_type": "markdown",
   "metadata": {},
   "source": [
    "# Módulo 5 Tarefa 1\n",
    "## Base de nascidos vivos do DataSUS\n",
    "O DataSUS disponibiliza diversos arquivos de dados com relação a seus segurados, conforme a [lei da transparência de informações públicas](https://www.sisgov.com/transparencia-acesso-informacao/#:~:text=A%20Lei%20da%20Transpar%C3%AAncia%20(LC,em%20um%20site%20na%20internet.). \n",
    "\n",
    "Essas informações podem ser obtidas pela internet [aqui](http://www2.datasus.gov.br/DATASUS/index.php?area=0901&item=1). Como o processo de obtenção desses arquivos foge um pouco do nosso escopo, deixamos o arquivo ```SINASC_RO_2019.csv``` já como vai ser encontrado no DataSUS. O dicionário de dados está no arquivo ```estrutura_sinasc_para_CD.pdf``` (o nome do arquivo tal qual no portal do DataSUS).\n",
    "\n",
    "### Nosso objetivo\n",
    "Queremos deixar uma base organizada para podermos estudar a relação entre partos com risco para o bebê e algumas condições como tempo de parto, consultas de pré-natal etc.\n",
    "\n",
    "#### Preparação da base\n",
    "1. Carregue a base 'SINASC_RO_2019.csv'. Conte o número de registros e o número de registros não duplicados da base. Dica: você aprendeu um método que remove duplicados, encadeie este método com um outro método que conta o número de linhas. **Há linhas duplicadas?**  \n",
    "\n",
    "2. Conte o número de valores *missing* por variável.  \n",
    "\n",
    "3. Ok, no item anterior você deve ter achado pouco prático ler a informação de tantas variáveis, muitas delas nem devem ser interesantes. Então crie uma seleção dessa base somente com as colunas que interessam. São elas:\n",
    "``` \n",
    "['LOCNASC', 'IDADEMAE', 'ESTCIVMAE', 'ESCMAE', 'QTDFILVIVO', \n",
    "    'GESTACAO', 'GRAVIDEZ', 'CONSULTAS', 'APGAR5'] \n",
    "```\n",
    "Refaça a contagem de valores *missings*.  \n",
    "\n",
    "4. Apgar é uma *nota* que o pediatra dá ao bebê quando nasce de acordo com algumas características associadas principalmente à respiração. Apgar 1 e Apgar 5 são as notas 1 e 5 minutos do nascimento. Apgar5 será a nossa variável de interesse principal. Então remova todos os registros com Apgar5 não preenchido. Para esta seleção, conte novamente o número de linhas e o número de *missings*.  \n",
    "\n",
    "5. observe que as variáveis ```['ESTCIVMAE', 'CONSULTAS']``` possuem o código ```9```, que significa *ignorado*. Vamos assumir que o não preenchido é o mesmo que o código ```9```.<br>\n",
    "6. Substitua os valores faltantes da quantitativa (```QTDFILVIVO```) por zero.  \n",
    "7. Das restantes, decida que valore te parece mais adequado (um 'não preenchido' ou um valor 'mais provável' como no item anterior) e preencha. Justifique. Lembre-se de que tratamento de dados é trabalho do cientista, e que estamos tomando decisões a todo o momento - não há necessariamente certo e errado aqui.  \n",
    "8. O Apgar possui uma classificação indicando se o bebê passou por asfixia:\n",
    "- Entre 8 e 10 está em uma faixa 'normal'. \n",
    "- Entre 6 e 7, significa que o recém-nascido passou por 'asfixia leve'. \n",
    "- Entre 4 e 5 significa 'asfixia moderada'.\n",
    "- Entre 0 e 3 significa 'asfixia severa'.  \n",
    "\n",
    "Crie uma categorização dessa variável com essa codificação e calcule as frequências dessa categorização.  \n",
    "<br>\n",
    "9. Renomeie as variáveis para que fiquem no *snake case*, ou seja, em letras minúsculas, com um *underscore* entre as palávras. Dica: repare que se você não quiser criar um *dataframe* novo, você vai precisar usar a opção ```inplace = True```."
   ]
  },
  {
   "cell_type": "code",
   "execution_count": 14,
   "metadata": {},
   "outputs": [
    {
     "name": "stdout",
     "output_type": "stream",
     "text": [
      "(27028, 69)\n"
     ]
    },
    {
     "data": {
      "text/plain": [
       "(27028, 69)"
      ]
     },
     "execution_count": 14,
     "metadata": {},
     "output_type": "execute_result"
    }
   ],
   "source": [
    "import pandas as pd\n",
    "import requests\n",
    "import numpy as np\n",
    "# 1) seu código aqui\n",
    "sinasc = pd.read_csv('SINASC_RO_2019.csv')\n",
    "print(sinasc.shape)\n",
    "sinasc.drop_duplicates().shape\n",
    "# Não há duplicados"
   ]
  },
  {
   "cell_type": "code",
   "execution_count": 15,
   "metadata": {},
   "outputs": [
    {
     "name": "stdout",
     "output_type": "stream",
     "text": [
      "ORIGEM          0\n",
      "CODESTAB      115\n",
      "CODMUNNASC      0\n",
      "LOCNASC         0\n",
      "IDADEMAE        0\n",
      "             ... \n",
      "munResUf        0\n",
      "munResLat       1\n",
      "munResLon       1\n",
      "munResAlt       1\n",
      "munResArea      1\n",
      "Length: 69, dtype: int64\n"
     ]
    }
   ],
   "source": [
    "# 2) seu código aqui\n",
    "df = pd.read_csv('SINASC_RO_2019.csv')\n",
    "missing_values = df.isnull().sum()\n",
    "print(missing_values)\n",
    "\n"
   ]
  },
  {
   "cell_type": "code",
   "execution_count": 17,
   "metadata": {},
   "outputs": [
    {
     "name": "stdout",
     "output_type": "stream",
     "text": [
      "LOCNASC          0\n",
      "IDADEMAE         0\n",
      "ESTCIVMAE      317\n",
      "ESCMAE         312\n",
      "QTDFILVIVO    1573\n",
      "GESTACAO      1232\n",
      "GRAVIDEZ        79\n",
      "CONSULTAS        0\n",
      "APGAR5         103\n",
      "dtype: int64\n"
     ]
    }
   ],
   "source": [
    "# 3) seu código aqui\n",
    "novo_df = df[['LOCNASC', 'IDADEMAE', 'ESTCIVMAE', 'ESCMAE', 'QTDFILVIVO', \n",
    "    'GESTACAO', 'GRAVIDEZ', 'CONSULTAS', 'APGAR5'] ]\n",
    "missing_values = novo_df.isnull().sum()\n",
    "print(missing_values)\n"
   ]
  },
  {
   "cell_type": "code",
   "execution_count": 5,
   "metadata": {},
   "outputs": [
    {
     "name": "stdout",
     "output_type": "stream",
     "text": [
      "26925\n",
      "LOCNASC          0\n",
      "IDADEMAE         0\n",
      "ESTCIVMAE      315\n",
      "ESCMAE         310\n",
      "QTDFILVIVO    1566\n",
      "GESTACAO      1216\n",
      "GRAVIDEZ        76\n",
      "CONSULTAS        0\n",
      "APGAR5           0\n",
      "dtype: int64\n"
     ]
    }
   ],
   "source": [
    "# 4) seu código aqui\n",
    "novo_df1 = novo_df.dropna(subset=['APGAR5'])\n",
    "numero_de_linhas = novo_df1.shape[0]\n",
    "missing_values = novo_df1.isnull().sum()\n",
    "print(numero_de_linhas)\n",
    "print(missing_values)"
   ]
  },
  {
   "cell_type": "code",
   "execution_count": 6,
   "metadata": {},
   "outputs": [
    {
     "name": "stdout",
     "output_type": "stream",
     "text": [
      "       LOCNASC  IDADEMAE  ESTCIVMAE           ESCMAE  QTDFILVIVO  \\\n",
      "0            1        19        5.0      8 a 11 anos         0.0   \n",
      "1            1        29        2.0      8 a 11 anos         1.0   \n",
      "2            1        37        NaN      8 a 11 anos         2.0   \n",
      "3            1        30        5.0  12 anos ou mais         0.0   \n",
      "4            1        30        2.0      8 a 11 anos         1.0   \n",
      "...        ...       ...        ...              ...         ...   \n",
      "27023        1        32        2.0  12 anos ou mais         1.0   \n",
      "27024        1        19        1.0      8 a 11 anos         0.0   \n",
      "27025        1        24        2.0      8 a 11 anos         0.0   \n",
      "27026        1        21        2.0      8 a 11 anos         1.0   \n",
      "27027        1        18        5.0      8 a 11 anos         1.0   \n",
      "\n",
      "              GESTACAO GRAVIDEZ  CONSULTAS  APGAR5  \n",
      "0      37 a 41 semanas    Única        4.0    10.0  \n",
      "1      37 a 41 semanas    Única        4.0     9.0  \n",
      "2      37 a 41 semanas    Única        4.0    10.0  \n",
      "3      37 a 41 semanas    Única        3.0    10.0  \n",
      "4      37 a 41 semanas    Única        4.0    10.0  \n",
      "...                ...      ...        ...     ...  \n",
      "27023  32 a 36 semanas    Única        4.0     9.0  \n",
      "27024  37 a 41 semanas    Única        4.0     9.0  \n",
      "27025  37 a 41 semanas    Única        4.0    10.0  \n",
      "27026  32 a 36 semanas    Única        4.0     9.0  \n",
      "27027  37 a 41 semanas    Única        4.0     8.0  \n",
      "\n",
      "[26925 rows x 9 columns]\n"
     ]
    },
    {
     "name": "stderr",
     "output_type": "stream",
     "text": [
      "C:\\Users\\55119\\AppData\\Local\\Temp\\ipykernel_11224\\4021191896.py:2: SettingWithCopyWarning: \n",
      "A value is trying to be set on a copy of a slice from a DataFrame.\n",
      "Try using .loc[row_indexer,col_indexer] = value instead\n",
      "\n",
      "See the caveats in the documentation: https://pandas.pydata.org/pandas-docs/stable/user_guide/indexing.html#returning-a-view-versus-a-copy\n",
      "  novo_df1['ESTCIVMAE'] = novo_df1['ESTCIVMAE'].replace(9, np.nan)\n",
      "C:\\Users\\55119\\AppData\\Local\\Temp\\ipykernel_11224\\4021191896.py:3: SettingWithCopyWarning: \n",
      "A value is trying to be set on a copy of a slice from a DataFrame.\n",
      "Try using .loc[row_indexer,col_indexer] = value instead\n",
      "\n",
      "See the caveats in the documentation: https://pandas.pydata.org/pandas-docs/stable/user_guide/indexing.html#returning-a-view-versus-a-copy\n",
      "  novo_df1['CONSULTAS'] = novo_df1['CONSULTAS'].replace(9, np.nan)\n"
     ]
    }
   ],
   "source": [
    "# 5) seu código aqui\n",
    "novo_df1['ESTCIVMAE'] = novo_df1['ESTCIVMAE'].replace(9, np.nan)\n",
    "novo_df1['CONSULTAS'] = novo_df1['CONSULTAS'].replace(9, np.nan)\n",
    "print(novo_df1)\n"
   ]
  },
  {
   "cell_type": "code",
   "execution_count": 7,
   "metadata": {},
   "outputs": [
    {
     "name": "stdout",
     "output_type": "stream",
     "text": [
      "       LOCNASC  IDADEMAE  ESTCIVMAE           ESCMAE  QTDFILVIVO  \\\n",
      "0            1        19        5.0      8 a 11 anos         0.0   \n",
      "1            1        29        2.0      8 a 11 anos         1.0   \n",
      "2            1        37        NaN      8 a 11 anos         2.0   \n",
      "3            1        30        5.0  12 anos ou mais         0.0   \n",
      "4            1        30        2.0      8 a 11 anos         1.0   \n",
      "...        ...       ...        ...              ...         ...   \n",
      "27023        1        32        2.0  12 anos ou mais         1.0   \n",
      "27024        1        19        1.0      8 a 11 anos         0.0   \n",
      "27025        1        24        2.0      8 a 11 anos         0.0   \n",
      "27026        1        21        2.0      8 a 11 anos         1.0   \n",
      "27027        1        18        5.0      8 a 11 anos         1.0   \n",
      "\n",
      "              GESTACAO GRAVIDEZ  CONSULTAS  APGAR5  \n",
      "0      37 a 41 semanas    Única        4.0    10.0  \n",
      "1      37 a 41 semanas    Única        4.0     9.0  \n",
      "2      37 a 41 semanas    Única        4.0    10.0  \n",
      "3      37 a 41 semanas    Única        3.0    10.0  \n",
      "4      37 a 41 semanas    Única        4.0    10.0  \n",
      "...                ...      ...        ...     ...  \n",
      "27023  32 a 36 semanas    Única        4.0     9.0  \n",
      "27024  37 a 41 semanas    Única        4.0     9.0  \n",
      "27025  37 a 41 semanas    Única        4.0    10.0  \n",
      "27026  32 a 36 semanas    Única        4.0     9.0  \n",
      "27027  37 a 41 semanas    Única        4.0     8.0  \n",
      "\n",
      "[26925 rows x 9 columns]\n"
     ]
    },
    {
     "name": "stderr",
     "output_type": "stream",
     "text": [
      "C:\\Users\\55119\\AppData\\Local\\Temp\\ipykernel_11224\\2917738387.py:2: SettingWithCopyWarning: \n",
      "A value is trying to be set on a copy of a slice from a DataFrame.\n",
      "Try using .loc[row_indexer,col_indexer] = value instead\n",
      "\n",
      "See the caveats in the documentation: https://pandas.pydata.org/pandas-docs/stable/user_guide/indexing.html#returning-a-view-versus-a-copy\n",
      "  novo_df1['QTDFILVIVO'] = novo_df1['QTDFILVIVO'].replace(np.nan, 0)\n"
     ]
    }
   ],
   "source": [
    "# 6) Seu código aqui\n",
    "novo_df1['QTDFILVIVO'] = novo_df1['QTDFILVIVO'].replace(np.nan, 0)\n",
    "print(novo_df1)\n"
   ]
  },
  {
   "cell_type": "code",
   "execution_count": 13,
   "metadata": {},
   "outputs": [
    {
     "data": {
      "text/html": [
       "<div>\n",
       "<style scoped>\n",
       "    .dataframe tbody tr th:only-of-type {\n",
       "        vertical-align: middle;\n",
       "    }\n",
       "\n",
       "    .dataframe tbody tr th {\n",
       "        vertical-align: top;\n",
       "    }\n",
       "\n",
       "    .dataframe thead th {\n",
       "        text-align: right;\n",
       "    }\n",
       "</style>\n",
       "<table border=\"1\" class=\"dataframe\">\n",
       "  <thead>\n",
       "    <tr style=\"text-align: right;\">\n",
       "      <th></th>\n",
       "      <th>IDADEMAE</th>\n",
       "      <th>best_year</th>\n",
       "    </tr>\n",
       "  </thead>\n",
       "  <tbody>\n",
       "    <tr>\n",
       "      <th>0</th>\n",
       "      <td>19</td>\n",
       "      <td>Ideal</td>\n",
       "    </tr>\n",
       "    <tr>\n",
       "      <th>1</th>\n",
       "      <td>29</td>\n",
       "      <td>Ideal</td>\n",
       "    </tr>\n",
       "    <tr>\n",
       "      <th>2</th>\n",
       "      <td>37</td>\n",
       "      <td>Risco</td>\n",
       "    </tr>\n",
       "    <tr>\n",
       "      <th>3</th>\n",
       "      <td>30</td>\n",
       "      <td>Ideal</td>\n",
       "    </tr>\n",
       "    <tr>\n",
       "      <th>4</th>\n",
       "      <td>30</td>\n",
       "      <td>Ideal</td>\n",
       "    </tr>\n",
       "    <tr>\n",
       "      <th>...</th>\n",
       "      <td>...</td>\n",
       "      <td>...</td>\n",
       "    </tr>\n",
       "    <tr>\n",
       "      <th>27023</th>\n",
       "      <td>32</td>\n",
       "      <td>Risco</td>\n",
       "    </tr>\n",
       "    <tr>\n",
       "      <th>27024</th>\n",
       "      <td>19</td>\n",
       "      <td>Ideal</td>\n",
       "    </tr>\n",
       "    <tr>\n",
       "      <th>27025</th>\n",
       "      <td>24</td>\n",
       "      <td>Ideal</td>\n",
       "    </tr>\n",
       "    <tr>\n",
       "      <th>27026</th>\n",
       "      <td>21</td>\n",
       "      <td>Ideal</td>\n",
       "    </tr>\n",
       "    <tr>\n",
       "      <th>27027</th>\n",
       "      <td>18</td>\n",
       "      <td>Ideal</td>\n",
       "    </tr>\n",
       "  </tbody>\n",
       "</table>\n",
       "<p>27028 rows × 2 columns</p>\n",
       "</div>"
      ],
      "text/plain": [
       "       IDADEMAE best_year\n",
       "0            19     Ideal\n",
       "1            29     Ideal\n",
       "2            37     Risco\n",
       "3            30     Ideal\n",
       "4            30     Ideal\n",
       "...         ...       ...\n",
       "27023        32     Risco\n",
       "27024        19     Ideal\n",
       "27025        24     Ideal\n",
       "27026        21     Ideal\n",
       "27027        18     Ideal\n",
       "\n",
       "[27028 rows x 2 columns]"
      ]
     },
     "execution_count": 13,
     "metadata": {},
     "output_type": "execute_result"
    }
   ],
   "source": [
    "# 7) seu código aqui\n",
    "caminho_arquivo_csv = 'SINASC_RO_2019.csv'\n",
    "nome_coluna = 'IDADEMAE'\n",
    "\n",
    "idade_mae = pd.read_csv(caminho_arquivo_csv, usecols=[nome_coluna])\n",
    "idade_mae.loc[idade_mae['IDADEMAE'] <= 17, 'best_year'] = 'Nao_recomendado'\n",
    "idade_mae.loc[(idade_mae['IDADEMAE'] >= 18) & (idade_mae['IDADEMAE'] <= 30), 'best_year'] = 'Ideal'\n",
    "idade_mae.loc[idade_mae['IDADEMAE'] > 30, 'best_year'] = 'Risco'\n",
    "idade_mae.loc[(idade_mae['IDADEMAE'] >= 18) & (idade_mae['IDADEMAE'] <= 30), 'best_year'] = 'Ideal'\n",
    "idade_mae"
   ]
  },
  {
   "cell_type": "code",
   "execution_count": 8,
   "metadata": {},
   "outputs": [
    {
     "name": "stdout",
     "output_type": "stream",
     "text": [
      "       APGAR5    apgar5_cat\n",
      "0        10.0  faixa_normal\n",
      "1         9.0  faixa_normal\n",
      "2        10.0  faixa_normal\n",
      "3        10.0  faixa_normal\n",
      "4        10.0  faixa_normal\n",
      "...       ...           ...\n",
      "27023     9.0  faixa_normal\n",
      "27024     9.0  faixa_normal\n",
      "27025    10.0  faixa_normal\n",
      "27026     9.0  faixa_normal\n",
      "27027     8.0  faixa_normal\n",
      "\n",
      "[26925 rows x 2 columns]\n"
     ]
    }
   ],
   "source": [
    "# 8) seu código aqui\n",
    "apgar5 = novo_df1['APGAR5']\n",
    "apgar5_df = pd.DataFrame(apgar5, columns=['APGAR5'])\n",
    "apgar5_df.loc[(apgar5_df['APGAR5'] <= 10) & (apgar5_df['APGAR5'] >= 8), 'apgar5_cat'] = 'faixa_normal'\n",
    "apgar5_df.loc[(apgar5_df['APGAR5'] <= 7) & (apgar5_df['APGAR5'] >= 6), 'apgar5_cat'] = 'asfixia_leve'\n",
    "apgar5_df.loc[(apgar5_df['APGAR5'] <= 5) & (apgar5_df['APGAR5'] >= 4), 'apgar5_cat'] = 'asfixia_moderada'\n",
    "apgar5_df.loc[(apgar5_df['APGAR5'] <= 3) & (apgar5_df['APGAR5'] >= 0), 'apgar5_cat'] = 'asfixia_severa'\n",
    "print(apgar5_df)"
   ]
  },
  {
   "cell_type": "code",
   "execution_count": 9,
   "metadata": {},
   "outputs": [
    {
     "name": "stdout",
     "output_type": "stream",
     "text": [
      "       locnasc  idademae  estcivmae           escmae  qtdfilvivo  \\\n",
      "0            1        19        5.0      8 a 11 anos         0.0   \n",
      "1            1        29        2.0      8 a 11 anos         1.0   \n",
      "2            1        37        NaN      8 a 11 anos         2.0   \n",
      "3            1        30        5.0  12 anos ou mais         0.0   \n",
      "4            1        30        2.0      8 a 11 anos         1.0   \n",
      "...        ...       ...        ...              ...         ...   \n",
      "27023        1        32        2.0  12 anos ou mais         1.0   \n",
      "27024        1        19        1.0      8 a 11 anos         0.0   \n",
      "27025        1        24        2.0      8 a 11 anos         0.0   \n",
      "27026        1        21        2.0      8 a 11 anos         1.0   \n",
      "27027        1        18        5.0      8 a 11 anos         1.0   \n",
      "\n",
      "              gestacao gravidez  consultas  apgar5  \n",
      "0      37 a 41 semanas    Única        4.0    10.0  \n",
      "1      37 a 41 semanas    Única        4.0     9.0  \n",
      "2      37 a 41 semanas    Única        4.0    10.0  \n",
      "3      37 a 41 semanas    Única        3.0    10.0  \n",
      "4      37 a 41 semanas    Única        4.0    10.0  \n",
      "...                ...      ...        ...     ...  \n",
      "27023  32 a 36 semanas    Única        4.0     9.0  \n",
      "27024  37 a 41 semanas    Única        4.0     9.0  \n",
      "27025  37 a 41 semanas    Única        4.0    10.0  \n",
      "27026  32 a 36 semanas    Única        4.0     9.0  \n",
      "27027  37 a 41 semanas    Única        4.0     8.0  \n",
      "\n",
      "[26925 rows x 9 columns]\n"
     ]
    }
   ],
   "source": [
    "# 9) seu código aqui\n",
    "def snake_case(text):\n",
    "    text = text.strip().replace(' ', '_')\n",
    "    text = ''.join(c if c.isalnum() else '_' for c in text)\n",
    "    return text.lower()\n",
    "novo_df1.columns = [snake_case(col) for col in novo_df1.columns]\n",
    "\n",
    "print(novo_df1)\n",
    "\n"
   ]
  },
  {
   "cell_type": "code",
   "execution_count": null,
   "metadata": {},
   "outputs": [],
   "source": []
  }
 ],
 "metadata": {
  "kernelspec": {
   "display_name": "Python 3 (ipykernel)",
   "language": "python",
   "name": "python3"
  },
  "language_info": {
   "codemirror_mode": {
    "name": "ipython",
    "version": 3
   },
   "file_extension": ".py",
   "mimetype": "text/x-python",
   "name": "python",
   "nbconvert_exporter": "python",
   "pygments_lexer": "ipython3",
   "version": "3.10.9"
  }
 },
 "nbformat": 4,
 "nbformat_minor": 4
}
